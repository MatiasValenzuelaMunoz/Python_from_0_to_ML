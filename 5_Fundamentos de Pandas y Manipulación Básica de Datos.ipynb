{
 "cells": [
  {
   "cell_type": "markdown",
   "metadata": {},
   "source": [
    "## ***Fundamentos de Pandas y Manipulación Básica de Datos***\n",
    "\n",
    "**Week 3-4 day1-2**"
   ]
  },
  {
   "cell_type": "markdown",
   "metadata": {},
   "source": [
    " ***Estructuras de Datos en Pandas: Series y DataFrames***\n",
    "\n",
    " **Series:**\n",
    "\n",
    "Una Serie es un objeto unidimensional similar a un array o lista.<br>\n",
    "Puedes pensar en ella como una columna en una hoja de cálculo o una columna en una tabla SQL.<br>\n",
    "Cada elemento en una Serie tiene una etiqueta o índice.<br>"
   ]
  },
  {
   "cell_type": "code",
   "execution_count": 5,
   "metadata": {},
   "outputs": [
    {
     "name": "stdout",
     "output_type": "stream",
     "text": [
      "0    1.0\n",
      "1    3.0\n",
      "2    5.0\n",
      "3    NaN\n",
      "4    6.0\n",
      "5    8.0\n",
      "dtype: float64\n"
     ]
    }
   ],
   "source": [
    "import pandas as pd\n",
    "import numpy as np\n",
    "\n",
    "# Crear una Serie\n",
    "serie_ejemplo = pd.Series([1, 3, 5, np.nan, 6, 8])\n",
    "\n",
    "print(serie_ejemplo)"
   ]
  },
  {
   "cell_type": "markdown",
   "metadata": {},
   "source": [
    "***DataFrames:***\n",
    "\n",
    "Un DataFrame es una estructura de datos bidimensional con columnas que pueden tener diferentes tipos de datos.<br>\n",
    "Es similar a una hoja de cálculo o una tabla SQL.<br>\n",
    "Puedes pensar en un DataFrame como un conjunto de Series que comparten el mismo índice.<br>"
   ]
  },
  {
   "cell_type": "code",
   "execution_count": 7,
   "metadata": {},
   "outputs": [
    {
     "name": "stdout",
     "output_type": "stream",
     "text": [
      "    Nombre  Edad   Ciudad\n",
      "0    Alice    25       NY\n",
      "1      Bob    30       LA\n",
      "2  Charlie    35       SF\n",
      "3    David    40  Chicago\n"
     ]
    }
   ],
   "source": [
    "# Crear un DataFrame\n",
    "df_ejemplo = pd.DataFrame({\n",
    "    'Nombre': ['Alice', 'Bob', 'Charlie', 'David'],\n",
    "    'Edad': [25, 30, 35, 40],\n",
    "    'Ciudad': ['NY', 'LA', 'SF', 'Chicago']\n",
    "})\n",
    "\n",
    "print (df_ejemplo)"
   ]
  }
 ],
 "metadata": {
  "kernelspec": {
   "display_name": "Python 3",
   "language": "python",
   "name": "python3"
  },
  "language_info": {
   "codemirror_mode": {
    "name": "ipython",
    "version": 3
   },
   "file_extension": ".py",
   "mimetype": "text/x-python",
   "name": "python",
   "nbconvert_exporter": "python",
   "pygments_lexer": "ipython3",
   "version": "3.11.7"
  }
 },
 "nbformat": 4,
 "nbformat_minor": 2
}
