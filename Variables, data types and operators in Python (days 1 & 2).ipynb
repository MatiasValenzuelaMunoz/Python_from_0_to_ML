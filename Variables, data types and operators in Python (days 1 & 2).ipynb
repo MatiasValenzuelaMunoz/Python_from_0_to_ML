{
 "cells": [
  {
   "cell_type": "markdown",
   "metadata": {},
   "source": [
    "\n",
    "### ***Variables, data types and operators in Python***\n",
    "\n",
    "**Week 1 day 1-2**"
   ]
  },
  {
   "cell_type": "markdown",
   "metadata": {},
   "source": [
    "Variables in Python:\n",
    "\n",
    "They are names that store values. <br>\n",
    "Created using assignment (=). <br>\n",
    "Can contain numbers, letters, and underscores, but must start with a letter or underscore (starting with a number results in error). <br>\n",
    "<br>\n",
    "<br>\n",
    "Data Types in Python:\n",
    "<br>\n",
    "<br>\n",
    "int: Integer numbers.<br>\n",
    "float: Decimal numbers.<br>\n",
    "str: Text strings.<br>\n",
    "bool: Boolean values (True or False).<br>\n",
    "list: Ordered and mutable lists [ ].<br>\n",
    "tuple: Ordered and immutable tuples ( ).<br>\n",
    "dict: Key-value dictionaries { }.<br>\n",
    "set: Unordered sets.<br>\n",
    "<br>\n",
    "<br>\n",
    "Operators in Python:\n",
    "<br>\n",
    "<br>\n",
    "Arithmetic Operators: +, -, *, /, //, %, **.<br>\n",
    "Comparison Operators: ==, !=, <, >, <=, >=.<br>\n",
    "Logical Operators: and, or, not.<br>\n",
    "Assignment Operators: =, +=, -=, *=, /=.<br>\n",
    "Membership Operators: in, not in.<br>\n",
    "Identity Operators: is, is not.<br>\n"
   ]
  },
  {
   "cell_type": "markdown",
   "metadata": {},
   "source": [
    "<br>\n",
    "\n",
    "#### Exercises"
   ]
  },
  {
   "cell_type": "code",
   "execution_count": 4,
   "metadata": {},
   "outputs": [
    {
     "name": "stdout",
     "output_type": "stream",
     "text": [
      "After swapping:\n",
      "a = 10\n",
      "b = 5\n"
     ]
    }
   ],
   "source": [
    "# Declare two variables, a and b, and swap their values without using a third variable.\n",
    "\n",
    "a = 5\n",
    "b = 10\n",
    "\n",
    "a, b = b, a    # In Python, parentheses are not required for tuple packing or unpacking\n",
    "\n",
    "print(\"After swapping:\")\n",
    "print(\"a =\", a)\n",
    "print(\"b =\", b)"
   ]
  },
  {
   "cell_type": "code",
   "execution_count": 9,
   "metadata": {},
   "outputs": [
    {
     "name": "stdout",
     "output_type": "stream",
     "text": [
      "a plus b is  15\n",
      "a minus b is  5\n",
      "a times b is  50\n",
      "a divided by b is  2.0\n"
     ]
    }
   ],
   "source": [
    "# Calculate the sum, subtraction, multiplication, and division of two numbers.\n",
    "\n",
    "c = a + b\n",
    "d = a - b\n",
    "e = a * b\n",
    "f = a / b\n",
    "\n",
    "print(\"a plus b is \", c)\n",
    "print(\"a minus b is \", d)\n",
    "print(\"a times b is \", e)\n",
    "print(\"a divided by b is \", f)"
   ]
  },
  {
   "cell_type": "code",
   "execution_count": 12,
   "metadata": {},
   "outputs": [
    {
     "name": "stdout",
     "output_type": "stream",
     "text": [
      "10.0 <class 'float'>\n"
     ]
    }
   ],
   "source": [
    "# Convert a decimal number to an integer.\n",
    "\n",
    "decimal = float(a)\n",
    "\n",
    "print(decimal,type(decimal))"
   ]
  },
  {
   "cell_type": "code",
   "execution_count": 15,
   "metadata": {},
   "outputs": [
    {
     "name": "stdout",
     "output_type": "stream",
     "text": [
      "5 <class 'int'>\n"
     ]
    }
   ],
   "source": [
    "# Convert a string to an integer.\n",
    "\n",
    "integer = int(\"5\")\n",
    "\n",
    "print(integer, type(integer))"
   ]
  },
  {
   "cell_type": "code",
   "execution_count": 30,
   "metadata": {},
   "outputs": [
    {
     "name": "stdout",
     "output_type": "stream",
     "text": [
      "10 power 2 is = 100\n"
     ]
    }
   ],
   "source": [
    "# Perform a power operation between two numbers.\n",
    "a = 10\n",
    "b = 2\n",
    "power = a**b\n",
    "\n",
    "print (a,\"power\",b,\"is =\", power)"
   ]
  },
  {
   "cell_type": "code",
   "execution_count": 20,
   "metadata": {},
   "outputs": [
    {
     "name": "stdout",
     "output_type": "stream",
     "text": [
      "Is Batman and Cat Woman loves cats?  False  Batman is alergic\n",
      "Any of Both?  True  Pretty sure Cat Woman likes them\n",
      "But, Batman could spend time with cats for shorts periods of time at least, right?  True\n"
     ]
    }
   ],
   "source": [
    "# Declare a boolean variable and perform logical operations (AND, OR, NOT).\n",
    "\n",
    "Batman = True\n",
    "Cat_Woman = False\n",
    "\n",
    "print(\"Is Batman and Cat Woman loves cats? \" ,Batman and Cat_Woman, \" Batman is alergic\") \n",
    "print(\"Any of Both? \" ,Batman or Cat_Woman, \" Pretty sure Cat Woman likes them\") \n",
    "print(\"But, Batman could spend time with cats for shorts periods of time at least, right? \",not Cat_Woman)"
   ]
  },
  {
   "cell_type": "code",
   "execution_count": 21,
   "metadata": {},
   "outputs": [
    {
     "name": "stdout",
     "output_type": "stream",
     "text": [
      "the area of this triangle is  12.0\n"
     ]
    }
   ],
   "source": [
    "# Calculate the area of a triangle with base and height.\n",
    "\n",
    "base = 4\n",
    "height = 6\n",
    "\n",
    "area = base * height / 2 \n",
    "\n",
    "print(\"the area of this triangle is \", area)"
   ]
  },
  {
   "cell_type": "code",
   "execution_count": 26,
   "metadata": {},
   "outputs": [
    {
     "name": "stdout",
     "output_type": "stream",
     "text": [
      "24 degree celcius are  75.2  Farenheit\n"
     ]
    }
   ],
   "source": [
    "# Convert Celsius to Fahrenheit.\n",
    "\n",
    "celcius = 24\n",
    "\n",
    "Fahrenheit = celcius * 9 / 5 + 32\n",
    "\n",
    "print(celcius,\"degree celcius are \", Fahrenheit,\" Farenheit\")"
   ]
  },
  {
   "cell_type": "code",
   "execution_count": 31,
   "metadata": {},
   "outputs": [
    {
     "name": "stdout",
     "output_type": "stream",
     "text": [
      "Python is easy to learn\n"
     ]
    }
   ],
   "source": [
    "# Concatenate two strings to form a sentence.\n",
    "\n",
    "j = \"Python is \"\n",
    "r = \"easy to learn\"\n",
    "\n",
    "print(j+r)\n"
   ]
  },
  {
   "cell_type": "code",
   "execution_count": 38,
   "metadata": {},
   "outputs": [
    {
     "name": "stdout",
     "output_type": "stream",
     "text": [
      "['One above all', 'Living tribunal', 'The Beyonder', 'Galactus', 'Adam Warlock', 'Goku']\n",
      "['One above all', 'Living tribunal', 'The Beyonder', 'Galactus', 'Adam Warlock']\n"
     ]
    }
   ],
   "source": [
    "#Add an element to a list:\n",
    "\n",
    "Marvel = ['One above all', 'Living tribunal','The Beyonder','Galactus']\n",
    "\n",
    "Marvel.append(\"Adam Warlock\")\n",
    "\n",
    "Marvel.append('Goku')\n",
    "\n",
    "print(Marvel)\n",
    "\n",
    "# Remove an element from a list: \n",
    "\n",
    "Marvel.remove(\"Goku\")\n",
    "\n",
    "print(Marvel)"
   ]
  },
  {
   "cell_type": "code",
   "execution_count": 20,
   "metadata": {},
   "outputs": [
    {
     "name": "stdout",
     "output_type": "stream",
     "text": [
      "Vocalist like Ronnie James Dio\n",
      "4\n",
      "5\n"
     ]
    }
   ],
   "source": [
    "# Declare a dictionary with three key-value pairs and access the value using one of the keys.\n",
    "\n",
    "my_dict = {'Guitar':1, 'Drums':5,'Bass': 5,'Powerful Voice': 'Ronnie James Dio'}\n",
    "\n",
    "# Select a value from a dictionary\n",
    "\n",
    "print('Vocalist like', my_dict['Powerful Voice'])\n",
    "\n",
    "# Use the len() function to get the length of a string:\n",
    "\n",
    "print(len(my_dict))\n",
    "print(len('Color'))\n"
   ]
  },
  {
   "cell_type": "code",
   "execution_count": null,
   "metadata": {},
   "outputs": [],
   "source": []
  }
 ],
 "metadata": {
  "kernelspec": {
   "display_name": "Python 3",
   "language": "python",
   "name": "python3"
  },
  "language_info": {
   "codemirror_mode": {
    "name": "ipython",
    "version": 3
   },
   "file_extension": ".py",
   "mimetype": "text/x-python",
   "name": "python",
   "nbconvert_exporter": "python",
   "pygments_lexer": "ipython3",
   "version": "3.11.5"
  }
 },
 "nbformat": 4,
 "nbformat_minor": 2
}
