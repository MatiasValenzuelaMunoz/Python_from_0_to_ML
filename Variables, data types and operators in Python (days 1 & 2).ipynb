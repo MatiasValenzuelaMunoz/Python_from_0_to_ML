{
 "cells": [
  {
   "cell_type": "markdown",
   "metadata": {},
   "source": [
    "# **Week 1**\n",
    "\n"
   ]
  },
  {
   "cell_type": "markdown",
   "metadata": {},
   "source": [
    "\n",
    "### ***Variables, data types and operators in Python (days 1 & 2)***"
   ]
  },
  {
   "cell_type": "markdown",
   "metadata": {},
   "source": [
    "Variables in Python:\n",
    "\n",
    "They are names that store values. <br>\n",
    "Created using assignment (=). <br>\n",
    "Can contain numbers, letters, and underscores, but must start with a letter or underscore (starting with a number results in error). <br>\n",
    "<br>\n",
    "<br>\n",
    "Data Types in Python:\n",
    "<br>\n",
    "<br>\n",
    "int: Integer numbers.<br>\n",
    "float: Decimal numbers.<br>\n",
    "str: Text strings.<br>\n",
    "bool: Boolean values (True or False).<br>\n",
    "list: Ordered and mutable lists [ ].<br>\n",
    "tuple: Ordered and immutable tuples ( ).<br>\n",
    "dict: Key-value dictionaries { }.<br>\n",
    "set: Unordered sets.<br>\n",
    "<br>\n",
    "<br>\n",
    "Operators in Python:\n",
    "<br>\n",
    "<br>\n",
    "Arithmetic Operators: +, -, *, /, //, %, **.<br>\n",
    "Comparison Operators: ==, !=, <, >, <=, >=.<br>\n",
    "Logical Operators: and, or, not.<br>\n",
    "Assignment Operators: =, +=, -=, *=, /=.<br>\n",
    "Membership Operators: in, not in.<br>\n",
    "Identity Operators: is, is not.<br>\n"
   ]
  },
  {
   "cell_type": "markdown",
   "metadata": {},
   "source": [
    "<br>\n",
    "\n",
    "#### Exercises"
   ]
  },
  {
   "cell_type": "code",
   "execution_count": 4,
   "metadata": {},
   "outputs": [
    {
     "name": "stdout",
     "output_type": "stream",
     "text": [
      "After swapping:\n",
      "a = 10\n",
      "b = 5\n"
     ]
    }
   ],
   "source": [
    "# Declare two variables, a and b, and swap their values without using a third variable.\n",
    "\n",
    "a = 5\n",
    "b = 10\n",
    "\n",
    "a, b = b, a    # In Python, parentheses are not required for tuple packing or unpacking\n",
    "\n",
    "print(\"After swapping:\")\n",
    "print(\"a =\", a)\n",
    "print(\"b =\", b)\n",
    "\n"
   ]
  },
  {
   "cell_type": "code",
   "execution_count": 9,
   "metadata": {},
   "outputs": [
    {
     "name": "stdout",
     "output_type": "stream",
     "text": [
      "a plus b is  15\n",
      "a minus b is  5\n",
      "a times b is  50\n",
      "a divided by b is  2.0\n"
     ]
    }
   ],
   "source": [
    "# Calculate the sum, subtraction, multiplication, and division of two numbers.\n",
    "\n",
    "c = a + b\n",
    "d = a - b\n",
    "e = a * b\n",
    "f = a / b\n",
    "\n",
    "print(\"a plus b is \", c)\n",
    "print(\"a minus b is \", d)\n",
    "print(\"a times b is \", e)\n",
    "print(\"a divided by b is \", f)"
   ]
  },
  {
   "cell_type": "code",
   "execution_count": 12,
   "metadata": {},
   "outputs": [
    {
     "name": "stdout",
     "output_type": "stream",
     "text": [
      "10.0 <class 'float'>\n"
     ]
    }
   ],
   "source": [
    "# Convert a decimal number to an integer.\n",
    "\n",
    "decimal = float(a)\n",
    "\n",
    "print(decimal,type(decimal))"
   ]
  },
  {
   "cell_type": "code",
   "execution_count": 15,
   "metadata": {},
   "outputs": [
    {
     "name": "stdout",
     "output_type": "stream",
     "text": [
      "5 <class 'int'>\n"
     ]
    }
   ],
   "source": [
    "# Convert a string to an integer.\n",
    "\n",
    "integer = int(\"5\")\n",
    "\n",
    "print(integer, type(integer))"
   ]
  },
  {
   "cell_type": "code",
   "execution_count": null,
   "metadata": {},
   "outputs": [],
   "source": [
    "# Perform a power operation between two numbers.\n"
   ]
  },
  {
   "cell_type": "code",
   "execution_count": null,
   "metadata": {},
   "outputs": [],
   "source": [
    "# Declare a boolean variable and perform logical operations (AND, OR, NOT).\n",
    "# Calculate the area of a triangle with base and height.\n",
    "# Convert Celsius to Fahrenheit.\n",
    "# Use comparison operators to check if two numbers are equal or different.\n",
    "# Concatenate two strings to form a sentence.\n",
    "# Create a list with at least 5 elements and access its elements using indices.\n",
    "# Add an element to a list.\n",
    "# Remove an element from a list.\n",
    "# Create a tuple with three elements and try to modify one of them.\n",
    "# Declare a dictionary with at least three key-value pairs.\n",
    "# Access a specific value in a dictionary using its key.\n",
    "# Use the len() function to get the length of a string.\n",
    "# Use the type() function to determine the type of a variable.\n",
    "# Create a string with a specific format using variables.\n",
    "# Perform a modulo operation to get the remainder of the division of two numbers."
   ]
  }
 ],
 "metadata": {
  "kernelspec": {
   "display_name": "Python 3",
   "language": "python",
   "name": "python3"
  },
  "language_info": {
   "codemirror_mode": {
    "name": "ipython",
    "version": 3
   },
   "file_extension": ".py",
   "mimetype": "text/x-python",
   "name": "python",
   "nbconvert_exporter": "python",
   "pygments_lexer": "ipython3",
   "version": "3.11.5"
  }
 },
 "nbformat": 4,
 "nbformat_minor": 2
}
