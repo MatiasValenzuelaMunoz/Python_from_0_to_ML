{
 "cells": [
  {
   "cell_type": "markdown",
   "metadata": {},
   "source": [
    "## ***introduction to Numpy***\n",
    "\n",
    "**week 2 day 7-8**"
   ]
  },
  {
   "cell_type": "markdown",
   "metadata": {},
   "source": [
    "**What is NumPy?**<br>\n",
    "<br>\n",
    "NumPy, which stands for Numerical Python, is a powerful library for numerical and mathematical operations in Python.<br>\n",
    "It provides support for large, multi-dimensional arrays and matrices, along with mathematical functions to operate on these arrays.<br>\n",
    "\n",
    "\n",
    "Key Features:\n",
    "\n",
    "Efficient and fast operations on arrays.<br>\n",
    "Mathematical functions for operations on entire arrays without the need for explicit loops.<br>\n",
    "Tools for working with arrays, including indexing, slicing, and reshaping.<br>\n",
    "Linear algebra, statistical, and random number capabilities.<br>"
   ]
  },
  {
   "cell_type": "markdown",
   "metadata": {},
   "source": [
    "### **NumPy Arrays (numpy.array):**\n",
    "\n",
    "\n",
    "Creating Arrays:\n",
    "\n",
    "The fundamental data structure in NumPy is the numpy.array. It is similar to Python lists but optimized for numerical operations.<br>\n",
    "Arrays can be created using the numpy.array function.\n"
   ]
  },
  {
   "cell_type": "code",
   "execution_count": 5,
   "metadata": {},
   "outputs": [
    {
     "name": "stdout",
     "output_type": "stream",
     "text": [
      "[1 2 3 4 5]\n"
     ]
    }
   ],
   "source": [
    "import numpy as np\n",
    "\n",
    "# Creating a NumPy array from a list\n",
    "arr = np.array([1, 2, 3, 4, 5])\n",
    "print(arr)\n"
   ]
  },
  {
   "cell_type": "markdown",
   "metadata": {},
   "source": [
    "**Array Attributes:**\n",
    "\n",
    "Arrays have several attributes that provide information about their structure:<br>\n",
    "* shape: Tuple representing the dimensions of the array.<br>\n",
    "* dtype: Data type of the elements in the array (e.g., int, float).<br>\n",
    "* size: Total number of elements in the array.<br>\n",
    "\n"
   ]
  },
  {
   "cell_type": "code",
   "execution_count": 6,
   "metadata": {},
   "outputs": [
    {
     "name": "stdout",
     "output_type": "stream",
     "text": [
      "Shape: (5,)\n",
      "Data Type: int32\n",
      "Size: 5\n"
     ]
    }
   ],
   "source": [
    "# Array attributes\n",
    "print(\"Shape:\", arr.shape)\n",
    "print(\"Data Type:\", arr.dtype)\n",
    "print(\"Size:\", arr.size)\n"
   ]
  },
  {
   "cell_type": "markdown",
   "metadata": {},
   "source": [
    "### **Array Creation and Attributes:**\n",
    "\n",
    "Creating Arrays:\n",
    "\n",
    "NumPy provides several functions for creating arrays, such as np.zeros, np.ones, and np.arange.<br>\n",
    "You can create arrays with specified shapes and fill them with zeros, ones, or a range of values."
   ]
  },
  {
   "cell_type": "code",
   "execution_count": 14,
   "metadata": {},
   "outputs": [
    {
     "name": "stdout",
     "output_type": "stream",
     "text": [
      "[[0. 0. 0.]\n",
      " [0. 0. 0.]] (2, 3)\n",
      "[[1. 1. 1.]\n",
      " [1. 1. 1.]\n",
      " [1. 1. 1.]] (3, 3)\n",
      "[0 2 4 6 8] (5,)\n"
     ]
    }
   ],
   "source": [
    "# Creating arrays\n",
    "zeros_arr = np.zeros((2, 3))  # 2x3 array filled with zeros\n",
    "ones_arr = np.ones((3, 3))    # 3x3 array filled with ones\n",
    "range_arr = np.arange(0, 10, 2)  # Array with values from 0 to 10 (exclusive) with a step of 2\n",
    "\n",
    "print(zeros_arr,zeros_arr.shape)\n",
    "print(ones_arr,ones_arr.shape)\n",
    "print(range_arr,range_arr.shape)"
   ]
  },
  {
   "cell_type": "markdown",
   "metadata": {},
   "source": []
  }
 ],
 "metadata": {
  "kernelspec": {
   "display_name": "base",
   "language": "python",
   "name": "python3"
  },
  "language_info": {
   "codemirror_mode": {
    "name": "ipython",
    "version": 3
   },
   "file_extension": ".py",
   "mimetype": "text/x-python",
   "name": "python",
   "nbconvert_exporter": "python",
   "pygments_lexer": "ipython3",
   "version": "3.11.7"
  }
 },
 "nbformat": 4,
 "nbformat_minor": 2
}
