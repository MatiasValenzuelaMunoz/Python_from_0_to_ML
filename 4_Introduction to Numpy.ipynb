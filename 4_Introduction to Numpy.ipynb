{
 "cells": [
  {
   "cell_type": "markdown",
   "metadata": {},
   "source": [
    "## ***Introduction to Numpy***\n",
    "\n",
    "**week 2 day 7-8**"
   ]
  },
  {
   "cell_type": "markdown",
   "metadata": {},
   "source": [
    "**What is NumPy?**<br>\n",
    "<br>\n",
    "NumPy, which stands for Numerical Python, is a powerful library for numerical and mathematical operations in Python.<br>\n",
    "It provides support for large, multi-dimensional arrays and matrices, along with mathematical functions to operate on these arrays.<br>\n",
    "\n",
    "\n",
    "Key Features:\n",
    "\n",
    "Efficient and fast operations on arrays.<br>\n",
    "Mathematical functions for operations on entire arrays without the need for explicit loops.<br>\n",
    "Tools for working with arrays, including indexing, slicing, and reshaping.<br>\n",
    "Linear algebra, statistical, and random number capabilities.<br>"
   ]
  },
  {
   "cell_type": "markdown",
   "metadata": {},
   "source": [
    "### **NumPy Arrays (numpy.array):**\n",
    "\n",
    "\n",
    "Creating Arrays:\n",
    "\n",
    "The fundamental data structure in NumPy is the numpy.array. It is similar to Python lists but optimized for numerical operations.<br>\n",
    "Arrays can be created using the numpy.array function.\n"
   ]
  },
  {
   "cell_type": "code",
   "execution_count": 2,
   "metadata": {},
   "outputs": [
    {
     "name": "stdout",
     "output_type": "stream",
     "text": [
      "[1 2 3 4 5]\n"
     ]
    }
   ],
   "source": [
    "import numpy as np\n",
    "\n",
    "# Creating a NumPy array from a list\n",
    "arr = np.array([1, 2, 3, 4, 5])\n",
    "print(arr)\n"
   ]
  },
  {
   "cell_type": "markdown",
   "metadata": {},
   "source": [
    "**Array Attributes:**\n",
    "\n",
    "Arrays have several attributes that provide information about their structure:<br>\n",
    "* shape: Tuple representing the dimensions of the array.<br>\n",
    "* dtype: Data type of the elements in the array (e.g., int, float).<br>\n",
    "* size: Total number of elements in the array.<br>\n",
    "\n"
   ]
  },
  {
   "cell_type": "code",
   "execution_count": 6,
   "metadata": {},
   "outputs": [
    {
     "name": "stdout",
     "output_type": "stream",
     "text": [
      "Shape: (5,)\n",
      "Data Type: int32\n",
      "Size: 5\n"
     ]
    }
   ],
   "source": [
    "# Array attributes\n",
    "print(\"Shape:\", arr.shape)\n",
    "print(\"Data Type:\", arr.dtype)\n",
    "print(\"Size:\", arr.size)\n"
   ]
  },
  {
   "cell_type": "markdown",
   "metadata": {},
   "source": [
    "### **Array Creation and Attributes:**\n",
    "\n",
    "\n",
    "\n",
    "\n",
    "**Creating Arrays:**\n",
    "\n",
    "NumPy provides several functions for creating arrays, such as np.zeros, np.ones, and np.arange.<br>\n",
    "You can create arrays with specified shapes and fill them with zeros, ones, or a range of values."
   ]
  },
  {
   "cell_type": "code",
   "execution_count": 14,
   "metadata": {},
   "outputs": [
    {
     "name": "stdout",
     "output_type": "stream",
     "text": [
      "[[0. 0. 0.]\n",
      " [0. 0. 0.]] (2, 3)\n",
      "[[1. 1. 1.]\n",
      " [1. 1. 1.]\n",
      " [1. 1. 1.]] (3, 3)\n",
      "[0 2 4 6 8] (5,)\n"
     ]
    }
   ],
   "source": [
    "# Creating arrays\n",
    "zeros_arr = np.zeros((2, 3))  # 2x3 array filled with zeros\n",
    "ones_arr = np.ones((3, 3))    # 3x3 array filled with ones\n",
    "range_arr = np.arange(0, 10, 2)  # Array with values from 0 to 10 (exclusive) with a step of 2\n",
    "\n",
    "print(zeros_arr,zeros_arr.shape)\n",
    "print(ones_arr,ones_arr.shape)\n",
    "print(range_arr,range_arr.shape)"
   ]
  },
  {
   "cell_type": "markdown",
   "metadata": {},
   "source": [
    "**Array Attributes:**\n",
    "\n",
    "The attributes of NumPy arrays provide essential information about the array's structure.<br>\n",
    "These attributes help you understand the shape, size, and data type of the array."
   ]
  },
  {
   "cell_type": "code",
   "execution_count": 5,
   "metadata": {},
   "outputs": [
    {
     "name": "stdout",
     "output_type": "stream",
     "text": [
      "[[1 2 3]\n",
      " [4 5 6]]\n",
      "Shape: (2, 3)\n",
      "Data Type: int32\n",
      "Size: 6\n"
     ]
    }
   ],
   "source": [
    "# Array attributes\n",
    "arr = np.array([[1, 2, 3], [4, 5, 6]])\n",
    "print(arr)\n",
    "print(\"Shape:\", arr.shape)    # (2, 3)\n",
    "print(\"Data Type:\", arr.dtype)  # int64\n",
    "print(\"Size:\", arr.size)      # 6\n"
   ]
  },
  {
   "cell_type": "markdown",
   "metadata": {},
   "source": [
    "### **Array Indexing and Slicing:**\n",
    "\n",
    "\n",
    "**Indexing:**\n",
    "\n",
    "NumPy arrays support zero-based indexing, similar to Python lists.<br>\n",
    "Elements can be accessed using square brackets and indices."
   ]
  },
  {
   "cell_type": "code",
   "execution_count": 6,
   "metadata": {},
   "outputs": [
    {
     "name": "stdout",
     "output_type": "stream",
     "text": [
      "1\n",
      "5\n"
     ]
    }
   ],
   "source": [
    "# Indexing\n",
    "arr = np.array([1, 2, 3, 4, 5])\n",
    "print(arr[0])   # Access the first element\n",
    "print(arr[-1])  # Access the last element\n"
   ]
  },
  {
   "cell_type": "markdown",
   "metadata": {},
   "source": [
    "**Slicing:**\n",
    "\n",
    "NumPy allows you to create subarrays using slicing. Slicing is a powerful mechanism for extracting specific portions of an array."
   ]
  },
  {
   "cell_type": "code",
   "execution_count": 7,
   "metadata": {},
   "outputs": [
    {
     "name": "stdout",
     "output_type": "stream",
     "text": [
      "[2 3 4]\n"
     ]
    }
   ],
   "source": [
    "# Slicing\n",
    "arr = np.array([1, 2, 3, 4, 5])\n",
    "subset = arr[1:4]  # Elements from index 1 to 3\n",
    "print(subset)\n"
   ]
  },
  {
   "cell_type": "markdown",
   "metadata": {},
   "source": [
    "### Exercises"
   ]
  },
  {
   "cell_type": "code",
   "execution_count": 14,
   "metadata": {},
   "outputs": [
    {
     "name": "stdout",
     "output_type": "stream",
     "text": [
      "[[ 2  4  6]\n",
      " [ 8 10 12]\n",
      " [14 16 18]]\n",
      "[[0 0 0]\n",
      " [0 0 0]\n",
      " [0 0 0]]\n",
      "[[ 1  4  9]\n",
      " [16 25 36]\n",
      " [49 64 81]]\n",
      "[[1. 1. 1.]\n",
      " [1. 1. 1.]\n",
      " [1. 1. 1.]]\n"
     ]
    }
   ],
   "source": [
    "# Array Operations:\n",
    "\n",
    "# Create two NumPy arrays of the same shape (e.g., 3x3).\n",
    "\n",
    "array1 = np.array([[1,2,3],[4,5,6],[7,8,9]])\n",
    "array2 = np.array([[1,2,3],[4,5,6],[7,8,9]])\n",
    "\n",
    "# Perform element-wise addition, subtraction, multiplication, and division on these arrays.\n",
    "# Print the results for each operation.\n",
    "\n",
    "print(array1+array2)\n",
    "print(array1-array2)\n",
    "print(array1*array2)\n",
    "print(array1/array2)"
   ]
  },
  {
   "cell_type": "code",
   "execution_count": 20,
   "metadata": {},
   "outputs": [
    {
     "name": "stdout",
     "output_type": "stream",
     "text": [
      "[ 0  1  2  3  4  5  6  7  8  9 10 11]\n",
      "[[ 0  1  2  3]\n",
      " [ 4  5  6  7]\n",
      " [ 8  9 10 11]]\n",
      "[ 0  1  2  3  4  5  6  7  8  9 10 11]\n"
     ]
    }
   ],
   "source": [
    "# Array Reshaping:\n",
    "\n",
    "# Create a NumPy array with 12 elements (e.g., using np.arange(12)).\n",
    "arr_range = np.arange(0,12)\n",
    "print(arr_range)\n",
    "\n",
    "# Reshape the array into a 3x4 matrix.\n",
    "arr_range = arr_range.reshape(3,4)\n",
    "print(arr_range)\n",
    "\n",
    "# Reshape the array into a vector again.\n",
    "arr_range = arr_range.reshape(12,)\n",
    "print(arr_range)\n"
   ]
  },
  {
   "cell_type": "code",
   "execution_count": 27,
   "metadata": {},
   "outputs": [
    {
     "name": "stdout",
     "output_type": "stream",
     "text": [
      "[[0.92983696 0.43741748 0.01590942 0.95706932]\n",
      " [0.91198016 0.93069796 0.25423793 0.44569327]]\n",
      "The maen is 0.6103553146053258\n",
      "The standard deviation is 0.3451598676746897\n"
     ]
    }
   ],
   "source": [
    "# Statistical Operations:\n",
    "\n",
    "# Generate a random 2x4 array using np.random.rand.\n",
    "arr_rand = np.random.rand(2,4)\n",
    "print(arr_rand)\n",
    "\n",
    "# Calculate the mean, median, and standard deviation of the array.\n",
    "print('The maen is', np.mean(arr_rand))\n",
    "print('The standard deviation is', np.std(arr_rand))\n",
    "\n"
   ]
  },
  {
   "cell_type": "code",
   "execution_count": 32,
   "metadata": {},
   "outputs": [
    {
     "name": "stdout",
     "output_type": "stream",
     "text": [
      "[ True False  True False  True False  True False  True False]\n",
      "[0 2 4 6 8]\n"
     ]
    }
   ],
   "source": [
    "# Boolean Indexing:\n",
    "\n",
    "# Create a NumPy array with values from 1 to 10.\n",
    "arr_1to10 = np.arange(0,10)\n",
    "\n",
    "# Use boolean indexing to select and print only the even numbers from the array.\n",
    "condition = (arr_1to10 % 2 == 0) # this is a boolean indexing\n",
    "print(condition) \n",
    "\n",
    "# Passing the boolean indexing to select the values\n",
    "even_numbers = arr_1to10[condition]\n",
    "print(even_numbers)"
   ]
  },
  {
   "cell_type": "code",
   "execution_count": 38,
   "metadata": {},
   "outputs": [
    {
     "name": "stdout",
     "output_type": "stream",
     "text": [
      "[[0.65648183 0.25728878 0.76940175 0.36477796]\n",
      " [0.88955879 0.44126269 0.99993141 0.52682289]]\n"
     ]
    }
   ],
   "source": [
    "# Matrix Multiplication:\n",
    "\n",
    "# Create two matrices (2x3 and 3x4) using NumPy arrays.\n",
    "matrix1 = np.random.rand(2,3)\n",
    "matrix2 = np.random.rand(3,4)\n",
    "\n",
    "# Perform matrix multiplication using the np.dot function.\n",
    "matrix_prod = np.dot(matrix1,matrix2)\n",
    "\n",
    "# Print the resulting matrix.\n",
    "print(matrix_prod) "
   ]
  }
 ],
 "metadata": {
  "kernelspec": {
   "display_name": "base",
   "language": "python",
   "name": "python3"
  },
  "language_info": {
   "codemirror_mode": {
    "name": "ipython",
    "version": 3
   },
   "file_extension": ".py",
   "mimetype": "text/x-python",
   "name": "python",
   "nbconvert_exporter": "python",
   "pygments_lexer": "ipython3",
   "version": "3.11.7"
  }
 },
 "nbformat": 4,
 "nbformat_minor": 2
}
