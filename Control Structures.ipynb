{
 "cells": [
  {
   "cell_type": "markdown",
   "metadata": {},
   "source": [
    "### ***Control Structures in Python***"
   ]
  },
  {
   "cell_type": "markdown",
   "metadata": {},
   "source": [
    "\n",
    "**if Statement:**\n",
    "<br>\n",
    "<br>\n",
    "The if statement is used for conditional execution.<br>\n",
    "It allows you to execute a block of code only if a specified condition is true.<br>\n",
    "<br>\n",
    "Syntax:\n",
    "\n",
    "```python\n",
    "if condition:\n",
    "    # code to execute if the condition is true\n",
    "```\n",
    "<br>\n",
    "\n",
    "**for Loop:**\n",
    "<br>\n",
    "<br>\n",
    "The for loop is used for iterating over a sequence (such as a list, tuple, string, or range).<br>\n",
    "It repeats a block of code for each item in the sequence.<br>\n",
    "Syntax:\n",
    "\n",
    "```python\n",
    "for item in sequence:\n",
    "    # code to execute for each item\n",
    "```\n",
    "<br>\n",
    "\n",
    "**while Loop:**\n",
    "<br>\n",
    "<br>\n",
    "The while loop is used for repeated execution of a block of code as long as a specified condition is true.<br>\n",
    "It continues to execute the code until the condition becomes false.<br>\n",
    "Syntax:\n",
    "\n",
    "```python\n",
    "while condition:\n",
    "    # code to execute while the condition is true\n",
    "```"
   ]
  },
  {
   "cell_type": "code",
   "execution_count": 7,
   "metadata": {},
   "outputs": [
    {
     "name": "stdout",
     "output_type": "stream",
     "text": [
      "positive\n"
     ]
    }
   ],
   "source": [
    "# Exercise 1:\n",
    "# Write a Python program that checks if a given number is positive, negative, or zero.\n",
    "\n",
    "import random\n",
    "\n",
    "num = float(input('Enter a number')) \n",
    "\n",
    "if num > 0:\n",
    "    print('positive')\n",
    "elif num < 0:\n",
    "    print('negative')\n",
    "elif num == 0:\n",
    "    print('is 0')\n",
    "else:\n",
    "    print('please, enter a number')\n",
    "\n"
   ]
  },
  {
   "cell_type": "code",
   "execution_count": null,
   "metadata": {},
   "outputs": [],
   "source": [
    "# Exercise 2:\n",
    "# Use a for loop to print the square of each number in a list.\n",
    "\n"
   ]
  },
  {
   "cell_type": "code",
   "execution_count": null,
   "metadata": {},
   "outputs": [],
   "source": [
    "# Exercise 3:\n",
    "# Write a program that prints the Fibonacci series up to a given limit.\n",
    "\n",
    "# Exercise 4:\n",
    "# Create a while loop to find the factorial of a given number.\n",
    "\n",
    "# Exercise 5:\n",
    "# Write a Python program that prints the sum of all elements in a list.\n",
    "\n",
    "# Exercise 6:\n",
    "# Use a for loop to print the characters of a string in reverse order.\n",
    "\n",
    "# Exercise 7:\n",
    "# Write a program that prints the prime numbers up to a specified limit.\n",
    "\n",
    "# Exercise 8:\n",
    "# Implement a guessing game where the user has to guess a number between 1 and 10.\n",
    "\n",
    "# Exercise 9:\n",
    "# Create a program that calculates the average of numbers in a list.\n",
    "\n",
    "# Exercise 10:\n",
    "# Write a Python program that prints a multiplication table for a given number."
   ]
  }
 ],
 "metadata": {
  "kernelspec": {
   "display_name": "base",
   "language": "python",
   "name": "python3"
  },
  "language_info": {
   "codemirror_mode": {
    "name": "ipython",
    "version": 3
   },
   "file_extension": ".py",
   "mimetype": "text/x-python",
   "name": "python",
   "nbconvert_exporter": "python",
   "pygments_lexer": "ipython3",
   "version": "3.11.5"
  }
 },
 "nbformat": 4,
 "nbformat_minor": 2
}
