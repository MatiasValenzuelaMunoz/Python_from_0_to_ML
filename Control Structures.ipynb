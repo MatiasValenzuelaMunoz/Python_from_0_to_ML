{
 "cells": [
  {
   "cell_type": "markdown",
   "metadata": {},
   "source": [
    "### ***Control Structures in Python***"
   ]
  },
  {
   "cell_type": "markdown",
   "metadata": {},
   "source": [
    "\n",
    "**if Statement:**\n",
    "<br>\n",
    "<br>\n",
    "The if statement is used for conditional execution.<br>\n",
    "It allows you to execute a block of code only if a specified condition is true.<br>\n",
    "<br>\n",
    "Syntax:\n",
    "\n",
    "```python\n",
    "if condition:\n",
    "    # code to execute if the condition is true\n",
    "```\n",
    "<br>\n",
    "\n",
    "**for Loop:**\n",
    "<br>\n",
    "<br>\n",
    "The for loop is used for iterating over a sequence (such as a list, tuple, string, or range).<br>\n",
    "It repeats a block of code for each item in the sequence.<br>\n",
    "Syntax:\n",
    "\n",
    "```python\n",
    "for item in sequence:\n",
    "    # code to execute for each item\n",
    "```\n",
    "<br>\n",
    "\n",
    "**while Loop:**\n",
    "<br>\n",
    "<br>\n",
    "The while loop is used for repeated execution of a block of code as long as a specified condition is true.<br>\n",
    "It continues to execute the code until the condition becomes false.<br>\n",
    "Syntax:\n",
    "\n",
    "```python\n",
    "while condition:\n",
    "    # code to execute while the condition is true\n",
    "```"
   ]
  },
  {
   "cell_type": "code",
   "execution_count": 7,
   "metadata": {},
   "outputs": [
    {
     "name": "stdout",
     "output_type": "stream",
     "text": [
      "positive\n"
     ]
    }
   ],
   "source": [
    "# Exercise 1:\n",
    "# Write a Python program that checks if a given number is positive, negative, or zero.\n",
    "\n",
    "import random\n",
    "\n",
    "num = float(input('Enter a number')) \n",
    "\n",
    "if num > 0:\n",
    "    print('positive')\n",
    "elif num < 0:\n",
    "    print('negative')\n",
    "elif num == 0:\n",
    "    print('is 0')\n",
    "else:\n",
    "    print('please, enter a number')\n",
    "\n"
   ]
  },
  {
   "cell_type": "code",
   "execution_count": 12,
   "metadata": {},
   "outputs": [
    {
     "data": {
      "text/plain": [
       "[4, 25, 9, 49, 64]"
      ]
     },
     "execution_count": 12,
     "metadata": {},
     "output_type": "execute_result"
    }
   ],
   "source": [
    "# Exercise 2:\n",
    "# Use a for loop to print the square of each number in a list.\n",
    "\n",
    "numbers_to_be_sqared = [2,5,3,7,8]\n",
    "squared = []\n",
    "\n",
    "for i in numbers_to_be_sqared:\n",
    "\n",
    "    n = i**2\n",
    "\n",
    "    squared.append(n)\n",
    "\n",
    "squared\n",
    "\n"
   ]
  },
  {
   "cell_type": "code",
   "execution_count": 13,
   "metadata": {},
   "outputs": [
    {
     "name": "stdout",
     "output_type": "stream",
     "text": [
      "[0, 1, 1, 2, 3, 5, 8, 13, 21, 34, 55, 89, 144, 233, 377, 610, 987, 1597, 2584, 4181, 6765, 10946, 17711, 28657, 46368, 75025, 121393, 196418, 317811, 514229, 832040, 1346269, 2178309, 3524578, 5702887, 9227465, 14930352, 24157817, 39088169, 63245986, 102334155, 165580141, 267914296, 433494437, 701408733, 1134903170, 1836311903, 2971215073, 4807526976, 7778742049, 12586269025, 20365011074, 32951280099, 53316291173, 86267571272, 139583862445, 225851433717, 365435296162, 591286729879, 956722026041, 1548008755920, 2504730781961, 4052739537881, 6557470319842]\n"
     ]
    }
   ],
   "source": [
    "# Exercise 3:\n",
    "# Write a program that prints the Fibonacci series up to a given limit.\n",
    "\n",
    "fib_sequence = [0, 1]\n",
    "\n",
    "for i in range(2, n):\n",
    "    next_number = fib_sequence[-1] + fib_sequence[-2]\n",
    "    fib_sequence.append(next_number)\n",
    "\n",
    "print(fib_sequence)"
   ]
  },
  {
   "cell_type": "code",
   "execution_count": 27,
   "metadata": {},
   "outputs": [
    {
     "name": "stdout",
     "output_type": "stream",
     "text": [
      "120\n"
     ]
    }
   ],
   "source": [
    "\n",
    "# Exercise 4:\n",
    "# Create a while loop to find the factorial of a given number.\n",
    "\n",
    "n = int(input('Enter a positive number'))\n",
    "result = 1\n",
    "\n",
    "for i in range(1, n + 1):\n",
    "    \n",
    "    result *= i\n",
    "    \n",
    "print(result)"
   ]
  },
  {
   "cell_type": "code",
   "execution_count": 28,
   "metadata": {},
   "outputs": [
    {
     "name": "stdout",
     "output_type": "stream",
     "text": [
      "38\n"
     ]
    }
   ],
   "source": [
    "# Exercise 5:\n",
    "# Write a Python program that prints the sum of all elements in a list.\n",
    "\n",
    "ints = [1,5,2,9,5,7,4,5]\n",
    "added = 0\n",
    "\n",
    "for i in ints:\n",
    "\n",
    "    added += i\n",
    "\n",
    "print(added)\n"
   ]
  },
  {
   "cell_type": "code",
   "execution_count": 50,
   "metadata": {},
   "outputs": [
    {
     "name": "stdout",
     "output_type": "stream",
     "text": [
      "['e', 'f', 'o', 'r', 't', 's', 'a', 't', 'a', 'C']\n"
     ]
    }
   ],
   "source": [
    "# Exercise 6:\n",
    "# Use a for loop to print the characters of a string in reverse order.\n",
    "\n",
    "word = 'Catastrofe'#str(input('Enter your word and I will reverse the letters'))\n",
    "reverse = []\n",
    "\n",
    "for i in range(len(word),0,-1):\n",
    "\n",
    "   reverse.append(word[i-1])\n",
    "    \n",
    "print(reverse)"
   ]
  },
  {
   "cell_type": "code",
   "execution_count": 38,
   "metadata": {},
   "outputs": [
    {
     "name": "stdout",
     "output_type": "stream",
     "text": [
      "Help on class range in module builtins:\n",
      "\n",
      "class range(object)\n",
      " |  range(stop) -> range object\n",
      " |  range(start, stop[, step]) -> range object\n",
      " |  \n",
      " |  Return an object that produces a sequence of integers from start (inclusive)\n",
      " |  to stop (exclusive) by step.  range(i, j) produces i, i+1, i+2, ..., j-1.\n",
      " |  start defaults to 0, and stop is omitted!  range(4) produces 0, 1, 2, 3.\n",
      " |  These are exactly the valid indices for a list of 4 elements.\n",
      " |  When step is given, it specifies the increment (or decrement).\n",
      " |  \n",
      " |  Methods defined here:\n",
      " |  \n",
      " |  __bool__(self, /)\n",
      " |      True if self else False\n",
      " |  \n",
      " |  __contains__(self, key, /)\n",
      " |      Return key in self.\n",
      " |  \n",
      " |  __eq__(self, value, /)\n",
      " |      Return self==value.\n",
      " |  \n",
      " |  __ge__(self, value, /)\n",
      " |      Return self>=value.\n",
      " |  \n",
      " |  __getattribute__(self, name, /)\n",
      " |      Return getattr(self, name).\n",
      " |  \n",
      " |  __getitem__(self, key, /)\n",
      " |      Return self[key].\n",
      " |  \n",
      " |  __gt__(self, value, /)\n",
      " |      Return self>value.\n",
      " |  \n",
      " |  __hash__(self, /)\n",
      " |      Return hash(self).\n",
      " |  \n",
      " |  __iter__(self, /)\n",
      " |      Implement iter(self).\n",
      " |  \n",
      " |  __le__(self, value, /)\n",
      " |      Return self<=value.\n",
      " |  \n",
      " |  __len__(self, /)\n",
      " |      Return len(self).\n",
      " |  \n",
      " |  __lt__(self, value, /)\n",
      " |      Return self<value.\n",
      " |  \n",
      " |  __ne__(self, value, /)\n",
      " |      Return self!=value.\n",
      " |  \n",
      " |  __reduce__(...)\n",
      " |      Helper for pickle.\n",
      " |  \n",
      " |  __repr__(self, /)\n",
      " |      Return repr(self).\n",
      " |  \n",
      " |  __reversed__(...)\n",
      " |      Return a reverse iterator.\n",
      " |  \n",
      " |  count(...)\n",
      " |      rangeobject.count(value) -> integer -- return number of occurrences of value\n",
      " |  \n",
      " |  index(...)\n",
      " |      rangeobject.index(value) -> integer -- return index of value.\n",
      " |      Raise ValueError if the value is not present.\n",
      " |  \n",
      " |  ----------------------------------------------------------------------\n",
      " |  Static methods defined here:\n",
      " |  \n",
      " |  __new__(*args, **kwargs) from builtins.type\n",
      " |      Create and return a new object.  See help(type) for accurate signature.\n",
      " |  \n",
      " |  ----------------------------------------------------------------------\n",
      " |  Data descriptors defined here:\n",
      " |  \n",
      " |  start\n",
      " |  \n",
      " |  step\n",
      " |  \n",
      " |  stop\n",
      "\n"
     ]
    }
   ],
   "source": [
    "help(range)\n",
    "# Exercise 7:\n",
    "# Write a program that prints the prime numbers up to a specified limit.\n",
    "\n",
    "# Exercise 8:\n",
    "# Implement a guessing game where the user has to guess a number between 1 and 10.\n",
    "\n",
    "# Exercise 9:\n",
    "# Create a program that calculates the average of numbers in a list.\n",
    "\n",
    "# Exercise 10:\n",
    "# Write a Python program that prints a multiplication table for a given number."
   ]
  }
 ],
 "metadata": {
  "kernelspec": {
   "display_name": "base",
   "language": "python",
   "name": "python3"
  },
  "language_info": {
   "codemirror_mode": {
    "name": "ipython",
    "version": 3
   },
   "file_extension": ".py",
   "mimetype": "text/x-python",
   "name": "python",
   "nbconvert_exporter": "python",
   "pygments_lexer": "ipython3",
   "version": "3.11.5"
  }
 },
 "nbformat": 4,
 "nbformat_minor": 2
}
