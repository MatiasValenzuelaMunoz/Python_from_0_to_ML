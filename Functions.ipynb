{
 "cells": [
  {
   "cell_type": "markdown",
   "metadata": {},
   "source": [
    "## ***Functions***\n",
    "\n",
    "**week 2 day 5-6**"
   ]
  },
  {
   "cell_type": "markdown",
   "metadata": {},
   "source": [
    "Functions are blocks of reusable code that perform a specific task. They help in organizing code, promoting reusability, and making programs more modular. Here's a summary of key aspects related to functions in Python:\n",
    "<br>\n",
    "<br>\n",
    "<br>\n",
    "**Function Definition:**\n",
    "\n",
    "Functions are defined using the def keyword, followed by the function name and parentheses ( ). The function block is indented.\n",
    "\n",
    "```python\n",
    "\n",
    "def my_function():\n",
    "    # Function body\n",
    "    print(\"Hello, I am a function!\")\n",
    "```\n",
    "<br>\n",
    "\n",
    "**Function Parameters:**\n",
    "\n",
    "Functions can take input parameters (arguments) to receive values from the calling code.\n",
    "\n",
    "```python\n",
    "\n",
    "def greet(name):\n",
    "    print(\"Hello, \" + name + \"!\")\n",
    "```\n",
    "\n",
    "\n",
    "**Return Statement:**\n",
    "\n",
    "Functions can use the return statement to send a value back to the calling code.\n",
    "\n",
    "```python\n",
    "\n",
    "def add_numbers(a, b):\n",
    "    return a + b\n",
    "```\n",
    "\n",
    "\n",
    "**Function Call:**\n",
    "\n",
    "To execute a function, you call it by using its name followed by parentheses. If the function has parameters, you pass values inside the parentheses.\n",
    "\n",
    "\n",
    "\n",
    "```python\n",
    "\n",
    "my_function()        # Function without parameters\n",
    "greet(\"Alice\")       # Function with parameters\n",
    "result = add_numbers(3, 5)  # Function with return statement\n",
    "```\n",
    "\n",
    "\n",
    "**Default Parameters:**\n",
    "\n",
    "You can provide default values for function parameters. These values are used if the calling code does not provide specific values.\n",
    "\n",
    "```python\n",
    "\n",
    "def power(base, exponent=2):\n",
    "    return base ** exponent\n",
    "\n",
    "```\n",
    "\n",
    "\n",
    "**Variable Number of Arguments:**\n",
    "\n",
    "Functions can accept a variable number of arguments using the *args (for positional arguments) and **kwargs (for keyword arguments) syntax.\n",
    "\n",
    "```python\n",
    "\n",
    "def variable_args(*args, **kwargs):\n",
    "    # Function body\n",
    "\n",
    "```\n",
    "\n",
    "\n",
    "\n",
    "**Docstrings:**\n",
    "\n",
    "It's good practice to include docstrings in functions to provide documentation about the function's purpose, parameters, and return values.\n",
    "\n",
    "```python\n",
    "\n",
    "def multiply(a, b):\n",
    "    \"\"\"\n",
    "    Multiply two numbers.\n",
    "\n",
    "    Parameters:\n",
    "    - a (int/float): First number\n",
    "    - b (int/float): Second number\n",
    "\n",
    "    Returns:\n",
    "    int/float: Product of a and b\n",
    "    \"\"\"\n",
    "    return a * b\n",
    "```\n",
    "\n",
    "\n",
    "\n",
    "**Scope:**\n",
    "\n",
    "Variables defined within a function have local scope, meaning they are only accessible within that function. Variables defined outside functions have global scope.\n",
    "Lambda Functions:\n",
    "\n",
    "Lambda functions, also known as anonymous functions, can be created using the lambda keyword. They are often used for short, simple operations.\n",
    "\n",
    "```python\n",
    "\n",
    "square = lambda x: x ** 2\n",
    "```\n",
    "\n",
    "\n",
    "Functions are a fundamental concept in Python and are used extensively in building modular and maintainable code. They contribute to code readability, organization, and the overall structure of Python programs.\n"
   ]
  },
  {
   "cell_type": "code",
   "execution_count": 2,
   "metadata": {},
   "outputs": [
    {
     "name": "stdout",
     "output_type": "stream",
     "text": [
      "4\n"
     ]
    }
   ],
   "source": [
    "# Define a function that squared a number\n",
    "\n",
    "def number_squared(number): # here, number is the argument of the function\n",
    "\n",
    "    print(number**2) "
   ]
  },
  {
   "cell_type": "code",
   "execution_count": 4,
   "metadata": {},
   "outputs": [
    {
     "name": "stdout",
     "output_type": "stream",
     "text": [
      "4\n"
     ]
    }
   ],
   "source": [
    "# call de number_squared function\n",
    "\n",
    "number_squared(2)"
   ]
  },
  {
   "cell_type": "code",
   "execution_count": 11,
   "metadata": {},
   "outputs": [],
   "source": [
    "# Define a function to power a number\n",
    "\n",
    "def number_powered(number,power): # functions will give error if not all the argument are passed to the function\n",
    "    print(number**power)"
   ]
  },
  {
   "cell_type": "code",
   "execution_count": 10,
   "metadata": {},
   "outputs": [
    {
     "name": "stdout",
     "output_type": "stream",
     "text": [
      "16\n"
     ]
    }
   ],
   "source": [
    "# call de number-powered function\n",
    "\n",
    "number_powered(4,2)"
   ]
  },
  {
   "cell_type": "code",
   "execution_count": null,
   "metadata": {},
   "outputs": [],
   "source": []
  }
 ],
 "metadata": {
  "kernelspec": {
   "display_name": "base",
   "language": "python",
   "name": "python3"
  },
  "language_info": {
   "codemirror_mode": {
    "name": "ipython",
    "version": 3
   },
   "file_extension": ".py",
   "mimetype": "text/x-python",
   "name": "python",
   "nbconvert_exporter": "python",
   "pygments_lexer": "ipython3",
   "version": "3.11.5"
  }
 },
 "nbformat": 4,
 "nbformat_minor": 2
}
